{
  "nbformat": 4,
  "nbformat_minor": 0,
  "metadata": {
    "colab": {
      "name": "KNeightbors_VS_DecisionTree_breast_cancer.ipynb",
      "version": "0.3.2",
      "provenance": [],
      "collapsed_sections": []
    },
    "kernelspec": {
      "name": "python3",
      "display_name": "Python 3"
    }
  },
  "cells": [
    {
      "cell_type": "code",
      "metadata": {
        "id": "19EdqyA-TSk1",
        "colab_type": "code",
        "outputId": "538bab4a-bf22-4de1-bfd6-ecd427091512",
        "colab": {
          "base_uri": "https://localhost:8080/",
          "height": 51
        }
      },
      "source": [
        "from sklearn import datasets\n",
        "breast_cancer = datasets.load_breast_cancer()\n",
        "x = breast_cancer.data\n",
        "y = breast_cancer.target\n",
        "\n",
        "from sklearn.model_selection import train_test_split\n",
        "x_train, x_test, y_train, y_test = train_test_split(x, y, test_size=.8)\n",
        "\n",
        "from sklearn import tree\n",
        "trclf = tree.DecisionTreeClassifier()\n",
        "trclf.fit(x_train,y_train)\n",
        "predictions_tr = trclf.predict(x_test)\n",
        "\n",
        "from sklearn.neighbors import KNeighborsClassifier\n",
        "knclf = KNeighborsClassifier()\n",
        "knclf.fit(x_train, y_train)\n",
        "predictions_kn = knclf.predict(x_test)\n",
        "\n",
        "from sklearn.metrics import accuracy_score\n",
        "print(accuracy_score(y_test, predictions_tr))\n",
        "print(accuracy_score(y_test, predictions_kn))\n"
      ],
      "execution_count": 8,
      "outputs": [
        {
          "output_type": "stream",
          "text": [
            "0.9320175438596491\n",
            "0.9035087719298246\n"
          ],
          "name": "stdout"
        }
      ]
    },
    {
      "cell_type": "code",
      "metadata": {
        "id": "fj5gsVpATX5V",
        "colab_type": "code",
        "outputId": "760beabd-975d-422f-c075-28ac29f2f47e",
        "colab": {
          "base_uri": "https://localhost:8080/",
          "height": 51
        }
      },
      "source": [
        "from sklearn import datasets\n",
        "breast_cancer = datasets.load_breast_cancer()\n",
        "x = breast_cancer.data\n",
        "y = breast_cancer.target\n",
        "\n",
        "from sklearn.model_selection import train_test_split\n",
        "x_train, x_test, y_train, y_test = train_test_split(x, y, test_size=.7)\n",
        "\n",
        "from sklearn import tree\n",
        "trclf = tree.DecisionTreeClassifier()\n",
        "trclf.fit(x_train,y_train)\n",
        "predictions_tr = trclf.predict(x_test)\n",
        "\n",
        "from sklearn.neighbors import KNeighborsClassifier\n",
        "knclf = KNeighborsClassifier()\n",
        "knclf.fit(x_train, y_train)\n",
        "predictions_kn = knclf.predict(x_test)\n",
        "\n",
        "from sklearn.metrics import accuracy_score\n",
        "print(accuracy_score(y_test, predictions_tr))\n",
        "print(accuracy_score(y_test, predictions_kn))\n"
      ],
      "execution_count": 9,
      "outputs": [
        {
          "output_type": "stream",
          "text": [
            "0.9348370927318296\n",
            "0.9348370927318296\n"
          ],
          "name": "stdout"
        }
      ]
    }
  ]
}